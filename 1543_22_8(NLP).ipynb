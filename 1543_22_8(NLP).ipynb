{
  "nbformat": 4,
  "nbformat_minor": 0,
  "metadata": {
    "colab": {
      "provenance": [],
      "authorship_tag": "ABX9TyPtbYRMqt3XjI3XEuvzRC4P",
      "include_colab_link": true
    },
    "kernelspec": {
      "name": "python3",
      "display_name": "Python 3"
    },
    "language_info": {
      "name": "python"
    }
  },
  "cells": [
    {
      "cell_type": "markdown",
      "metadata": {
        "id": "view-in-github",
        "colab_type": "text"
      },
      "source": [
        "<a href=\"https://colab.research.google.com/github/Hruthikaveldi/Hruthikaveldi-NLP-ASSIGNMENTS-1543/blob/main/1543_22_8(NLP).ipynb\" target=\"_parent\"><img src=\"https://colab.research.google.com/assets/colab-badge.svg\" alt=\"Open In Colab\"/></a>"
      ]
    },
    {
      "cell_type": "code",
      "execution_count": 1,
      "metadata": {
        "id": "iwQVJFY32SmY"
      },
      "outputs": [],
      "source": [
        "import nltk"
      ]
    },
    {
      "cell_type": "code",
      "source": [
        "nltk.download('punkt')"
      ],
      "metadata": {
        "colab": {
          "base_uri": "https://localhost:8080/",
          "height": 0
        },
        "id": "wfzII5gI2UsW",
        "outputId": "fd7d1c1c-7ec7-4890-a330-6d61896c04ca"
      },
      "execution_count": 2,
      "outputs": [
        {
          "output_type": "stream",
          "name": "stderr",
          "text": [
            "[nltk_data] Downloading package punkt to /root/nltk_data...\n",
            "[nltk_data]   Unzipping tokenizers/punkt.zip.\n"
          ]
        },
        {
          "output_type": "execute_result",
          "data": {
            "text/plain": [
              "True"
            ]
          },
          "metadata": {},
          "execution_count": 2
        }
      ]
    },
    {
      "cell_type": "code",
      "source": [
        "nltk.download('punkt_tab')"
      ],
      "metadata": {
        "colab": {
          "base_uri": "https://localhost:8080/",
          "height": 0
        },
        "id": "AC0MbMPKGSLm",
        "outputId": "7c1fb2e9-60a4-4abb-e590-c1296b96d44a"
      },
      "execution_count": 3,
      "outputs": [
        {
          "output_type": "stream",
          "name": "stderr",
          "text": [
            "[nltk_data] Downloading package punkt_tab to /root/nltk_data...\n",
            "[nltk_data]   Unzipping tokenizers/punkt_tab.zip.\n"
          ]
        },
        {
          "output_type": "execute_result",
          "data": {
            "text/plain": [
              "True"
            ]
          },
          "metadata": {},
          "execution_count": 3
        }
      ]
    },
    {
      "cell_type": "code",
      "source": [
        "nltk.download('stopwords')"
      ],
      "metadata": {
        "colab": {
          "base_uri": "https://localhost:8080/",
          "height": 0
        },
        "id": "q3PNoH4TGa9V",
        "outputId": "57a7cec9-04f4-4c0c-9580-e207ca1bb2ed"
      },
      "execution_count": 4,
      "outputs": [
        {
          "output_type": "stream",
          "name": "stderr",
          "text": [
            "[nltk_data] Downloading package stopwords to /root/nltk_data...\n",
            "[nltk_data]   Unzipping corpora/stopwords.zip.\n"
          ]
        },
        {
          "output_type": "execute_result",
          "data": {
            "text/plain": [
              "True"
            ]
          },
          "metadata": {},
          "execution_count": 4
        }
      ]
    },
    {
      "cell_type": "code",
      "source": [
        "from nltk.tokenize import word_tokenize"
      ],
      "metadata": {
        "id": "f_HTfxA5GcT_"
      },
      "execution_count": 5,
      "outputs": []
    },
    {
      "cell_type": "markdown",
      "source": [
        "## Task **1**"
      ],
      "metadata": {
        "id": "s-pOEuBI5sqA"
      }
    },
    {
      "cell_type": "code",
      "source": [
        "import pandas as pd"
      ],
      "metadata": {
        "id": "YhG3L2_jGl3C"
      },
      "execution_count": 6,
      "outputs": []
    },
    {
      "cell_type": "code",
      "source": [
        "file_path = \"/content/test.csv\"\n",
        "df = pd.read_csv(file_path)"
      ],
      "metadata": {
        "id": "jrEusX_IGmFX"
      },
      "execution_count": 7,
      "outputs": []
    },
    {
      "cell_type": "code",
      "source": [
        "print(\"Dataset Info:\")\n",
        "print(df.info())"
      ],
      "metadata": {
        "colab": {
          "base_uri": "https://localhost:8080/",
          "height": 0
        },
        "id": "QLqMeYHLGoCQ",
        "outputId": "e694515d-a50b-4892-a092-a7002a00f070"
      },
      "execution_count": 8,
      "outputs": [
        {
          "output_type": "stream",
          "name": "stdout",
          "text": [
            "Dataset Info:\n",
            "<class 'pandas.core.frame.DataFrame'>\n",
            "RangeIndex: 516 entries, 0 to 515\n",
            "Data columns (total 4 columns):\n",
            " #   Column         Non-Null Count  Dtype  \n",
            "---  ------         --------------  -----  \n",
            " 0   test_id        516 non-null    int64  \n",
            " 1   description_x  516 non-null    object \n",
            " 2   description_y  516 non-null    object \n",
            " 3   same_security  0 non-null      float64\n",
            "dtypes: float64(1), int64(1), object(2)\n",
            "memory usage: 16.3+ KB\n",
            "None\n"
          ]
        }
      ]
    },
    {
      "cell_type": "code",
      "source": [
        "print(\"\\nFirst 5 rows:\")\n",
        "print(df.head())"
      ],
      "metadata": {
        "colab": {
          "base_uri": "https://localhost:8080/",
          "height": 0
        },
        "id": "jWHqwakCGpW5",
        "outputId": "62123118-35eb-47ae-95ef-0dd533ca9302"
      },
      "execution_count": 9,
      "outputs": [
        {
          "output_type": "stream",
          "name": "stdout",
          "text": [
            "\n",
            "First 5 rows:\n",
            "   test_id                       description_x  \\\n",
            "0        0                        semtech corp   \n",
            "1        1              vanguard mid cap index   \n",
            "2        2         spdr gold trust gold shares   \n",
            "3        3       vanguard total bond index adm   \n",
            "4        4  oakmark international fund class i   \n",
            "\n",
            "                      description_y  same_security  \n",
            "0               semtech corporation            NaN  \n",
            "1         vanguard midcap index - a            NaN  \n",
            "2  spdr gold trust spdr gold shares            NaN  \n",
            "3  vanguard total bond market index            NaN  \n",
            "4        oakmark international cl i            NaN  \n"
          ]
        }
      ]
    },
    {
      "cell_type": "code",
      "source": [
        "print(\"\\nFirst 5 text entries from 'description_x':\")\n",
        "print(df['description_x'].head())\n"
      ],
      "metadata": {
        "colab": {
          "base_uri": "https://localhost:8080/",
          "height": 0
        },
        "id": "vjErwTMfGrE9",
        "outputId": "3d1c8412-380d-4d55-f5b1-95f55343dde2"
      },
      "execution_count": 10,
      "outputs": [
        {
          "output_type": "stream",
          "name": "stdout",
          "text": [
            "\n",
            "First 5 text entries from 'description_x':\n",
            "0                          semtech corp\n",
            "1                vanguard mid cap index\n",
            "2           spdr gold trust gold shares\n",
            "3         vanguard total bond index adm\n",
            "4    oakmark international fund class i\n",
            "Name: description_x, dtype: object\n"
          ]
        }
      ]
    },
    {
      "cell_type": "code",
      "source": [
        "df = df.dropna(subset=['description_x'])\n",
        "print(f\"\\nRemaining rows after dropping nulls: {len(df)}\")"
      ],
      "metadata": {
        "colab": {
          "base_uri": "https://localhost:8080/",
          "height": 0
        },
        "id": "PWRo6QA2GtG9",
        "outputId": "2a1a0ab1-094d-4cdc-aecd-296423ddb465"
      },
      "execution_count": 11,
      "outputs": [
        {
          "output_type": "stream",
          "name": "stdout",
          "text": [
            "\n",
            "Remaining rows after dropping nulls: 516\n"
          ]
        }
      ]
    },
    {
      "cell_type": "markdown",
      "source": [
        "# Task 2"
      ],
      "metadata": {
        "id": "c58yAJn6Buyi"
      }
    },
    {
      "cell_type": "code",
      "source": [
        "import pandas as pd"
      ],
      "metadata": {
        "id": "r_w5EN8rG0Ta"
      },
      "execution_count": 12,
      "outputs": []
    },
    {
      "cell_type": "code",
      "source": [
        "import spacy"
      ],
      "metadata": {
        "id": "3H4YAfldG5K5"
      },
      "execution_count": 13,
      "outputs": []
    },
    {
      "cell_type": "code",
      "source": [
        "file_path = \"/content/test.csv\"\n",
        "df = pd.read_csv(file_path)"
      ],
      "metadata": {
        "id": "0dhTPCCCG7LY"
      },
      "execution_count": 14,
      "outputs": []
    },
    {
      "cell_type": "code",
      "source": [
        "print(\"First 5 text entries from 'description_x':\")\n",
        "print(df['description_x'].head())"
      ],
      "metadata": {
        "colab": {
          "base_uri": "https://localhost:8080/",
          "height": 0
        },
        "id": "hiSPgqd-G-jA",
        "outputId": "ccb8af0e-6e1b-4a30-9c42-bfb0553b2bff"
      },
      "execution_count": 15,
      "outputs": [
        {
          "output_type": "stream",
          "name": "stdout",
          "text": [
            "First 5 text entries from 'description_x':\n",
            "0                          semtech corp\n",
            "1                vanguard mid cap index\n",
            "2           spdr gold trust gold shares\n",
            "3         vanguard total bond index adm\n",
            "4    oakmark international fund class i\n",
            "Name: description_x, dtype: object\n"
          ]
        }
      ]
    },
    {
      "cell_type": "code",
      "source": [
        "df = df.dropna(subset=['description_x'])"
      ],
      "metadata": {
        "id": "Dae5lApwAqBL"
      },
      "execution_count": 16,
      "outputs": []
    },
    {
      "cell_type": "code",
      "source": [
        "nlp = spacy.load(\"en_core_web_sm\")"
      ],
      "metadata": {
        "id": "4WcWJ7nZHDtJ"
      },
      "execution_count": 17,
      "outputs": []
    },
    {
      "cell_type": "code",
      "source": [
        "sample_texts = df['description_x'].head(5).tolist()"
      ],
      "metadata": {
        "id": "E_N-2ZVxHGce"
      },
      "execution_count": 18,
      "outputs": []
    },
    {
      "cell_type": "code",
      "source": [
        "for i, sentence in enumerate(sample_texts, 1):\n",
        "    doc = nlp(sentence)\n",
        "    print(f\"\\n Sentence {i}: {sentence}\")\n",
        "    print(\"Tokens with POS tags:\")\n",
        "    for token in doc:\n",
        "        print(f\"{token.text:<15} {token.pos_:<10}\")"
      ],
      "metadata": {
        "colab": {
          "base_uri": "https://localhost:8080/",
          "height": 0
        },
        "id": "soBrWCvyHH0Q",
        "outputId": "7876c33c-5974-49ac-9812-72861f28023b"
      },
      "execution_count": 19,
      "outputs": [
        {
          "output_type": "stream",
          "name": "stdout",
          "text": [
            "\n",
            " Sentence 1: semtech corp\n",
            "Tokens with POS tags:\n",
            "semtech         PROPN     \n",
            "corp            PROPN     \n",
            "\n",
            " Sentence 2: vanguard mid cap index\n",
            "Tokens with POS tags:\n",
            "vanguard        PROPN     \n",
            "mid             PROPN     \n",
            "cap             PROPN     \n",
            "index           NOUN      \n",
            "\n",
            " Sentence 3: spdr gold trust gold shares\n",
            "Tokens with POS tags:\n",
            "spdr            NOUN      \n",
            "gold            NOUN      \n",
            "trust           NOUN      \n",
            "gold            NOUN      \n",
            "shares          NOUN      \n",
            "\n",
            " Sentence 4: vanguard total bond index adm\n",
            "Tokens with POS tags:\n",
            "vanguard        PROPN     \n",
            "total           PROPN     \n",
            "bond            PROPN     \n",
            "index           NOUN      \n",
            "adm             PROPN     \n",
            "\n",
            " Sentence 5: oakmark international fund class i\n",
            "Tokens with POS tags:\n",
            "oakmark         PROPN     \n",
            "international   ADJ       \n",
            "fund            NOUN      \n",
            "class           NOUN      \n",
            "i               PRON      \n"
          ]
        }
      ]
    },
    {
      "cell_type": "code",
      "source": [
        "nouns = [token.text for token in doc if token.pos_ == \"NOUN\"]\n",
        "verbs = [token.text for token in doc if token.pos_ == \"VERB\"]\n",
        "adjectives = [token.text for token in doc if token.pos_ == \"ADJ\"]"
      ],
      "metadata": {
        "id": "tA4v3VPjHKOO"
      },
      "execution_count": 20,
      "outputs": []
    },
    {
      "cell_type": "code",
      "source": [
        "print(\"Nouns:\", nouns)\n",
        "print(\"Verbs:\", verbs)\n",
        "print(\"Adjectives:\", adjectives)"
      ],
      "metadata": {
        "colab": {
          "base_uri": "https://localhost:8080/",
          "height": 0
        },
        "id": "AwtJWuESHMg3",
        "outputId": "7edc6b0b-92ad-499d-ba2e-6b6e9b16c18f"
      },
      "execution_count": 21,
      "outputs": [
        {
          "output_type": "stream",
          "name": "stdout",
          "text": [
            "Nouns: ['fund', 'class']\n",
            "Verbs: []\n",
            "Adjectives: ['international']\n"
          ]
        }
      ]
    },
    {
      "cell_type": "markdown",
      "source": [
        "# Q2"
      ],
      "metadata": {
        "id": "wJwp7IwSDtVi"
      }
    },
    {
      "cell_type": "code",
      "source": [
        "import re"
      ],
      "metadata": {
        "id": "h2-SIxkRHQrI"
      },
      "execution_count": 28,
      "outputs": []
    },
    {
      "cell_type": "code",
      "source": [
        "texts = [\n",
        "    \"My phone number is 1234567890 and my email is test@domain.com\",\n",
        "    \"Visit https://example.com for more info!!!\",\n",
        "    \"HELLO!!! This is SOOOOO exciting :))\",\n",
        "    \"Contact us at info@company.org or call +91 98765-43210\",\n",
        "    \"Python's regex is very useful!!!  #Coding #Fun\"\n",
        "]\n"
      ],
      "metadata": {
        "id": "qUMdqY0SHSmT"
      },
      "execution_count": 29,
      "outputs": []
    },
    {
      "cell_type": "code",
      "source": [
        "cleaned_texts = []"
      ],
      "metadata": {
        "id": "qapGxD6AHTyc"
      },
      "execution_count": 30,
      "outputs": []
    },
    {
      "cell_type": "code",
      "source": [
        "for text in texts:\n",
        "    print(\"\\nOriginal:\", text)"
      ],
      "metadata": {
        "colab": {
          "base_uri": "https://localhost:8080/",
          "height": 0
        },
        "id": "SRIYaIs1HVoj",
        "outputId": "06e513eb-6a1a-4562-fa13-e93f1f6e02a8"
      },
      "execution_count": 31,
      "outputs": [
        {
          "output_type": "stream",
          "name": "stdout",
          "text": [
            "\n",
            "Original: My phone number is 1234567890 and my email is test@domain.com\n",
            "\n",
            "Original: Visit https://example.com for more info!!!\n",
            "\n",
            "Original: HELLO!!! This is SOOOOO exciting :))\n",
            "\n",
            "Original: Contact us at info@company.org or call +91 98765-43210\n",
            "\n",
            "Original: Python's regex is very useful!!!  #Coding #Fun\n"
          ]
        }
      ]
    },
    {
      "cell_type": "code",
      "source": [
        "phone_numbers = re.findall(r'(\\+?\\d[\\d\\-\\s]{8,}\\d)', text)\n",
        "print(\"Phone Numbers Found:\", phone_numbers)"
      ],
      "metadata": {
        "colab": {
          "base_uri": "https://localhost:8080/",
          "height": 0
        },
        "id": "j-Hn9hM_HXWt",
        "outputId": "2a46ea33-c9a6-4454-e2bd-70f033dfceef"
      },
      "execution_count": 32,
      "outputs": [
        {
          "output_type": "stream",
          "name": "stdout",
          "text": [
            "Phone Numbers Found: []\n"
          ]
        }
      ]
    },
    {
      "cell_type": "code",
      "source": [
        "text = re.sub(r'(\\+?\\d[\\d\\-\\s]{8,}\\d)', '', text)"
      ],
      "metadata": {
        "id": "RBQkW_8PHY1m"
      },
      "execution_count": 33,
      "outputs": []
    },
    {
      "cell_type": "code",
      "source": [
        "text = re.sub(r'\\S+@\\S+', '', text)"
      ],
      "metadata": {
        "id": "-TMg09UfHaR-"
      },
      "execution_count": 34,
      "outputs": []
    },
    {
      "cell_type": "code",
      "source": [
        "text = re.sub(r'http\\S+|www.\\S+', '', text)"
      ],
      "metadata": {
        "id": "7vGDaTEIHhdu"
      },
      "execution_count": 35,
      "outputs": []
    },
    {
      "cell_type": "code",
      "source": [
        "text = re.sub(r'[^A-Za-z0-9\\s]', '', text)"
      ],
      "metadata": {
        "id": "f47g-nMkHklQ"
      },
      "execution_count": 36,
      "outputs": []
    },
    {
      "cell_type": "code",
      "source": [
        "text = re.sub(r'\\s+', ' ', text).strip()"
      ],
      "metadata": {
        "id": "1qU5znj4HmPH"
      },
      "execution_count": 37,
      "outputs": []
    },
    {
      "cell_type": "code",
      "source": [
        "cleaned_texts.append(text)\n",
        "print(\"Cleaned:\", text)"
      ],
      "metadata": {
        "colab": {
          "base_uri": "https://localhost:8080/",
          "height": 0
        },
        "id": "oR2hmPZQHn7v",
        "outputId": "27c68185-4e3e-4e56-bcdc-a46b05e0cade"
      },
      "execution_count": 38,
      "outputs": [
        {
          "output_type": "stream",
          "name": "stdout",
          "text": [
            "Cleaned: Pythons regex is very useful Coding Fun\n"
          ]
        }
      ]
    },
    {
      "cell_type": "code",
      "source": [
        "print(\"\\n Final Cleaned Texts:\")\n",
        "for c in cleaned_texts:\n",
        "    print(c)"
      ],
      "metadata": {
        "colab": {
          "base_uri": "https://localhost:8080/",
          "height": 0
        },
        "id": "24q8hqs6Hp3f",
        "outputId": "33d811b1-d964-4603-81ee-2903305b9372"
      },
      "execution_count": 39,
      "outputs": [
        {
          "output_type": "stream",
          "name": "stdout",
          "text": [
            "\n",
            " Final Cleaned Texts:\n",
            "Pythons regex is very useful Coding Fun\n"
          ]
        }
      ]
    }
  ]
}